{
 "cells": [
  {
   "cell_type": "markdown",
   "metadata": {},
   "source": [
    "# Example stitching workflow\n",
    "\n",
    "Using a small CZI example dataset with two positions.\n",
    "\n",
    "This notebook requires multiview-stitcher to be installed as such:\n",
    "- `pip install \".[aicsimageio]\"`\n",
    "- `pip install \"multiview-stitcher[aicsimageio]\"`"
   ]
  },
  {
   "cell_type": "code",
   "execution_count": 6,
   "metadata": {},
   "outputs": [],
   "source": [
    "# napari-stitcher can be used to visualize the stitching process using napari\n",
    "VISUALIZE_USING_NAPARI = False"
   ]
  },
  {
   "cell_type": "code",
   "execution_count": 7,
   "metadata": {},
   "outputs": [],
   "source": [
    "import dask.diagnostics\n",
    "\n",
    "from multiview_stitcher import (\n",
    "    io,\n",
    "    sample_data,\n",
    "    msi_utils,\n",
    "    registration,\n",
    "    fusion,\n",
    ")\n",
    "\n",
    "if VISUALIZE_USING_NAPARI:\n",
    "    from napari_stitcher import viewer_utils\n",
    "    import napari\n",
    "    viewer = napari.Viewer()"
   ]
  },
  {
   "cell_type": "code",
   "execution_count": 8,
   "metadata": {},
   "outputs": [
    {
     "ename": "ImportError",
     "evalue": "aicsimageio is required to read mosaic CZI files. Please install it using `pip install multiview-stitcher[aicsimageio]` or `pip install aicsimageio`.",
     "output_type": "error",
     "traceback": [
      "\u001b[0;31m---------------------------------------------------------------------------\u001b[0m",
      "\u001b[0;31mImportError\u001b[0m                               Traceback (most recent call last)",
      "Cell \u001b[0;32mIn[8], line 5\u001b[0m\n\u001b[1;32m      1\u001b[0m \u001b[38;5;66;03m# Load dataset from file\u001b[39;00m\n\u001b[1;32m      3\u001b[0m filename \u001b[38;5;241m=\u001b[39m sample_data\u001b[38;5;241m.\u001b[39mget_mosaic_sample_data_path()\n\u001b[0;32m----> 5\u001b[0m sims \u001b[38;5;241m=\u001b[39m \u001b[43mio\u001b[49m\u001b[38;5;241;43m.\u001b[39;49m\u001b[43mread_mosaic_image_into_list_of_spatial_xarrays\u001b[49m\u001b[43m(\u001b[49m\u001b[43mfilename\u001b[49m\u001b[43m)\u001b[49m\n\u001b[1;32m      6\u001b[0m msims \u001b[38;5;241m=\u001b[39m [msi_utils\u001b[38;5;241m.\u001b[39mget_msim_from_sim(sim, scale_factors\u001b[38;5;241m=\u001b[39m[]) \u001b[38;5;28;01mfor\u001b[39;00m sim \u001b[38;5;129;01min\u001b[39;00m sims]\n\u001b[1;32m      8\u001b[0m \u001b[38;5;28mprint\u001b[39m(\u001b[38;5;124mf\u001b[39m\u001b[38;5;124m\"\u001b[39m\u001b[38;5;124mLoaded \u001b[39m\u001b[38;5;132;01m{\u001b[39;00m\u001b[38;5;28mlen\u001b[39m(msims)\u001b[38;5;132;01m}\u001b[39;00m\u001b[38;5;124m positions from \u001b[39m\u001b[38;5;132;01m{\u001b[39;00mfilename\u001b[38;5;132;01m}\u001b[39;00m\u001b[38;5;124m. Transform key is \u001b[39m\u001b[38;5;132;01m{\u001b[39;00mio\u001b[38;5;241m.\u001b[39mMETADATA_TRANSFORM_KEY\u001b[38;5;132;01m}\u001b[39;00m\u001b[38;5;124m.\u001b[39m\u001b[38;5;124m\"\u001b[39m)\n",
      "File \u001b[0;32m~/miniconda3/envs/sliceMEA/lib/python3.9/site-packages/multiview_stitcher/io.py:96\u001b[0m, in \u001b[0;36mread_mosaic_image_into_list_of_spatial_xarrays\u001b[0;34m(path, scene_index)\u001b[0m\n\u001b[1;32m     83\u001b[0m \u001b[38;5;250m\u001b[39m\u001b[38;5;124;03m\"\"\"\u001b[39;00m\n\u001b[1;32m     84\u001b[0m \u001b[38;5;124;03mRead CZI mosaic dataset into xarray containing all information needed for stitching.\u001b[39;00m\n\u001b[1;32m     85\u001b[0m \u001b[38;5;124;03mCould eventually be based on https://github.com/spatial-image/spatial-image.\u001b[39;00m\n\u001b[0;32m   (...)\u001b[0m\n\u001b[1;32m     93\u001b[0m \n\u001b[1;32m     94\u001b[0m \u001b[38;5;124;03m\"\"\"\u001b[39;00m\n\u001b[1;32m     95\u001b[0m \u001b[38;5;28;01mif\u001b[39;00m AICSImage \u001b[38;5;129;01mis\u001b[39;00m \u001b[38;5;28;01mNone\u001b[39;00m:\n\u001b[0;32m---> 96\u001b[0m     \u001b[38;5;28;01mraise\u001b[39;00m \u001b[38;5;167;01mImportError\u001b[39;00m(\n\u001b[1;32m     97\u001b[0m         \u001b[38;5;124m\"\u001b[39m\u001b[38;5;124maicsimageio is required to read mosaic CZI files. Please install it using `pip install multiview-stitcher[aicsimageio]` or `pip install aicsimageio`.\u001b[39m\u001b[38;5;124m\"\u001b[39m\n\u001b[1;32m     98\u001b[0m     )\n\u001b[1;32m    100\u001b[0m aicsim \u001b[38;5;241m=\u001b[39m AICSImage(path, reconstruct_mosaic\u001b[38;5;241m=\u001b[39m\u001b[38;5;28;01mFalse\u001b[39;00m)\n\u001b[1;32m    102\u001b[0m \u001b[38;5;28;01mif\u001b[39;00m \u001b[38;5;28mlen\u001b[39m(aicsim\u001b[38;5;241m.\u001b[39mscenes) \u001b[38;5;241m>\u001b[39m \u001b[38;5;241m1\u001b[39m \u001b[38;5;129;01mand\u001b[39;00m scene_index \u001b[38;5;129;01mis\u001b[39;00m \u001b[38;5;28;01mNone\u001b[39;00m:\n",
      "\u001b[0;31mImportError\u001b[0m: aicsimageio is required to read mosaic CZI files. Please install it using `pip install multiview-stitcher[aicsimageio]` or `pip install aicsimageio`."
     ]
    }
   ],
   "source": [
    "# Load dataset from file\n",
    "\n",
    "filename = sample_data.get_mosaic_sample_data_path()\n",
    "\n",
    "sims = io.read_mosaic_image_into_list_of_spatial_xarrays(filename)\n",
    "msims = [msi_utils.get_msim_from_sim(sim, scale_factors=[]) for sim in sims]\n",
    "\n",
    "print(f\"Loaded {len(msims)} positions from {filename}. Transform key is {io.METADATA_TRANSFORM_KEY}.\")"
   ]
  },
  {
   "cell_type": "code",
   "execution_count": 4,
   "metadata": {},
   "outputs": [],
   "source": [
    "if VISUALIZE_USING_NAPARI:\n",
    "    \n",
    "    layer_tuples = viewer_utils.create_image_layer_tuples_from_msims(\n",
    "        msims, n_colors=3, transform_key='affine_metadata')\n",
    "    viewer_utils.add_image_layer_tuples_to_viewer(viewer, layer_tuples)\n",
    "    viewer.reset_view()"
   ]
  },
  {
   "cell_type": "code",
   "execution_count": 5,
   "metadata": {},
   "outputs": [
    {
     "name": "stdout",
     "output_type": "stream",
     "text": [
      "Registering...\n",
      "[########################################] | 100% Completed | 948.16 ms\n",
      "[########################################] | 100% Completed | 212.24 ms\n",
      "Fusing...\n"
     ]
    }
   ],
   "source": [
    "print('Registering...')\n",
    "with dask.diagnostics.ProgressBar():\n",
    "    params = registration.register(\n",
    "        msims, transform_key='affine_metadata', reg_channel_index=0)\n",
    "    \n",
    "for msim, param in zip(msims, params):\n",
    "    msi_utils.set_affine_transform(msim, param, transform_key='affine_registered', base_transform_key='affine_metadata')\n",
    "\n",
    "print('Fusing...')\n",
    "with dask.diagnostics.ProgressBar():\n",
    "    fused = fusion.fuse(\n",
    "        [msi_utils.get_sim_from_msim(msim) for msim in msims],\n",
    "        transform_key='affine_registered')\n",
    "\n",
    "mfused = msi_utils.get_msim_from_sim(fused, scale_factors=[])"
   ]
  },
  {
   "cell_type": "code",
   "execution_count": 6,
   "metadata": {},
   "outputs": [],
   "source": [
    "if VISUALIZE_USING_NAPARI:\n",
    "    \n",
    "    viewer = napari.Viewer(ndisplay=2)\n",
    "\n",
    "    lds = viewer_utils.create_image_layer_tuples_from_msims(\n",
    "        msims, transform_key='affine_registered', n_colors=4,\n",
    "        name_prefix='pre-registered view')\n",
    "    mlayers = viewer_utils.add_image_layer_tuples_to_viewer(viewer, lds, do_link_layers=True)\n",
    "\n",
    "    lds = viewer_utils.create_image_layer_tuples_from_msim(\n",
    "        mfused, transform_key='affine_registered',\n",
    "        name_prefix='registered view')\n",
    "    rlayers = viewer_utils.add_image_layer_tuples_to_viewer(viewer, lds, do_link_layers=True)"
   ]
  },
  {
   "cell_type": "code",
   "execution_count": 7,
   "metadata": {},
   "outputs": [
    {
     "name": "stderr",
     "output_type": "stream",
     "text": [
      "  0%|          | 0/1.0 [00:00<?, ?it/s]"
     ]
    },
    {
     "name": "stdout",
     "output_type": "stream",
     "text": [
      "[                                        ] | 0% Completed | 78.83 us"
     ]
    },
    {
     "name": "stdout",
     "output_type": "stream",
     "text": [
      "[########################################] | 100% Completed | 386.25 ms\n"
     ]
    },
    {
     "name": "stderr",
     "output_type": "stream",
     "text": [
      "100%|██████████| 1/1.0 [00:00<00:00,  2.56it/s]\n"
     ]
    }
   ],
   "source": [
    "with dask.diagnostics.ProgressBar():\n",
    "    io.save_sim_as_tif('fused.tif', fused)"
   ]
  }
 ],
 "metadata": {
  "kernelspec": {
   "display_name": "sliceMEA",
   "language": "python",
   "name": "slicemea"
  },
  "language_info": {
   "codemirror_mode": {
    "name": "ipython",
    "version": 3
   },
   "file_extension": ".py",
   "mimetype": "text/x-python",
   "name": "python",
   "nbconvert_exporter": "python",
   "pygments_lexer": "ipython3",
   "version": "3.9.21"
  }
 },
 "nbformat": 4,
 "nbformat_minor": 4
}
