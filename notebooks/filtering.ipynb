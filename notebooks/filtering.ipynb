{
 "cells": [
  {
   "cell_type": "code",
   "execution_count": 1,
   "metadata": {},
   "outputs": [],
   "source": [
    "%matplotlib inline\n",
    "import sys, importlib, os\n",
    "import McsPy.McsData\n",
    "import McsPy.McsCMOS\n",
    "from McsPy import ureg, Q_\n",
    "\n",
    "# matplotlib.pyplot will be used in these examples to generate the plots visualizing the data\n",
    "import matplotlib.pyplot as plt\n",
    "from matplotlib.figure import Figure\n",
    "from matplotlib.widgets import Slider\n",
    "import numpy as np\n",
    "from scipy import signal\n",
    "\n",
    "# import datashader as ds\n",
    "# import datashader.transfer_functions as tf\n",
    "import pandas as pd\n",
    "import numpy as np\n",
    "# import pynapple as nap\n",
    "\n",
    "\n",
    "import numpy as np\n",
    "import scipy.signal\n",
    "import matplotlib.pyplot as plt\n",
    "\n",
    "na = np.array\n",
    "import numpy as np\n",
    "import scipy.signal\n",
    "import matplotlib.pyplot as plt\n",
    "\n",
    "import numpy as np\n",
    "import scipy.signal\n",
    "import matplotlib.pyplot as plt\n",
    "import h5py"
   ]
  },
  {
   "cell_type": "code",
   "execution_count": 24,
   "metadata": {},
   "outputs": [],
   "source": [
    "import os\n",
    "\n",
    "def find_h5_files(root_folder):\n",
    "    h5_files = []\n",
    "    for dirpath, dirnames, filenames in os.walk(root_folder):\n",
    "        for file in filenames:\n",
    "            if file.endswith('.h5'):\n",
    "                full_path = os.path.join(dirpath, file)\n",
    "                h5_files.append(full_path)\n",
    "    return h5_files"
   ]
  },
  {
   "cell_type": "code",
   "execution_count": 27,
   "metadata": {},
   "outputs": [
    {
     "name": "stdout",
     "output_type": "stream",
     "text": [
      "/mnt/server_epl/SCN1A/R1648H-export/18-3-25/slice2/2025-03-18T13-14-03McsRecording.h5\n",
      "/mnt/server_epl/SCN1A/R1648H-export/18-3-25/slice2/2025-03-18T13-31-51McsRecording.h5\n",
      "/mnt/server_epl/SCN1A/R1648H-export/18-3-25/slice2/2025-03-18T13-52-04McsRecording.h5\n",
      "/mnt/server_epl/SCN1A/R1648H-export/18-3-25/slice2/2025-03-18T13-32-32McsRecording.h5\n",
      "/mnt/server_epl/SCN1A/R1648H-export/18-3-25/slice1/2025-03-18T12-08-33McsRecording.h5\n",
      "/mnt/server_epl/SCN1A/R1648H-export/18-3-25/slice1/2025-03-18T12-39-10McsRecording.h5\n",
      "/mnt/server_epl/SCN1A/R1648H-export/18-3-25/slice1/2025-03-18T12-19-34McsRecording.h5\n",
      "/mnt/server_epl/SCN1A/R1648H-export/18-3-25/slice4/2025-03-18T15-12-04McsRecording.h5\n",
      "/mnt/server_epl/SCN1A/R1648H-export/18-3-25/slice4/2025-03-18T15-40-06McsRecording.h5\n",
      "/mnt/server_epl/SCN1A/R1648H-export/18-3-25/slice4/2025-03-18T15-28-14McsRecording.h5\n",
      "/mnt/server_epl/SCN1A/R1648H-export/18-3-25/slice3/2025-03-18T14-15-04McsRecording.h5\n",
      "/mnt/server_epl/SCN1A/R1648H-export/18-3-25/slice3/2025-03-18T14-35-42McsRecording.h5\n",
      "/mnt/server_epl/SCN1A/R1648H-export/18-3-25/slice3/2025-03-18T14-47-59McsRecording.h5\n",
      "/mnt/server_epl/SCN1A/R1648H-export/25-3-25/slice1/2025-03-25T10-53-17McsRecording.h5\n",
      "/mnt/server_epl/SCN1A/R1648H-export/25-3-25/slice1/2025-03-25T11-07-24McsRecording.h5\n",
      "/mnt/server_epl/SCN1A/R1648H-export/25-3-25/slice5/2025-03-25T14-43-18McsRecording.h5\n",
      "/mnt/server_epl/SCN1A/R1648H-export/25-3-25/slice5/2025-03-25T14-33-58McsRecording.h5\n",
      "/mnt/server_epl/SCN1A/R1648H-export/25-3-25/slice2/2025-03-25T12-30-22McsRecording.h5\n",
      "/mnt/server_epl/SCN1A/R1648H-export/25-3-25/slice2/2025-03-25T12-19-52McsRecording.h5\n",
      "/mnt/server_epl/SCN1A/R1648H-export/25-3-25/slice3/2025-03-25T12-47-22McsRecording.h5\n",
      "/mnt/server_epl/SCN1A/R1648H-export/25-3-25/slice4/2025-03-25T13-27-56McsRecording.h5\n",
      "/mnt/server_epl/SCN1A/R1648H-export/25-3-25/slice4/2025-03-25T13-15-56McsRecording.h5\n",
      "/mnt/server_epl/SCN1A/R1648H-export/21-3-25/slice3/2025-03-21T12-20-48McsRecording.h5\n",
      "/mnt/server_epl/SCN1A/R1648H-export/21-3-25/slice3/2025-03-21T12-42-43McsRecording.h5\n",
      "/mnt/server_epl/SCN1A/R1648H-export/21-3-25/slice4/2025-03-21T13-29-38McsRecording.h5\n",
      "/mnt/server_epl/SCN1A/R1648H-export/21-3-25/slice4/2025-03-21T13-20-16McsRecording.h5\n",
      "/mnt/server_epl/SCN1A/R1648H-export/21-3-25/slice6/2025-03-21T14-52-28McsRecording.h5\n",
      "/mnt/server_epl/SCN1A/R1648H-export/21-3-25/slice6/2025-03-21T14-42-46McsRecording.h5\n",
      "/mnt/server_epl/SCN1A/R1648H-export/21-3-25/slice1/2025-03-21T11-09-44McsRecording.h5\n",
      "/mnt/server_epl/SCN1A/R1648H-export/21-3-25/slice1/2025-03-21T10-52-26McsRecording.h5\n",
      "/mnt/server_epl/SCN1A/R1648H-export/21-3-25/slice1/2025-03-21T10-30-21McsRecording.h5\n",
      "/mnt/server_epl/SCN1A/R1648H-export/21-3-25/slice5/2025-03-21T14-18-05McsRecording.h5\n",
      "/mnt/server_epl/SCN1A/R1648H-export/21-3-25/slice5/2025-03-21T14-11-06McsRecording.h5\n",
      "/mnt/server_epl/SCN1A/R1648H-export/21-3-25/slice2/2025-03-21T11-41-42McsRecording.h5\n",
      "/mnt/server_epl/SCN1A/R1648H-export/21-3-25/slice2/2025-03-21T12-02-22McsRecording.h5\n",
      "/mnt/server_epl/SCN1A/R1648H-export/21-3-25/slice2/2025-03-21T11-33-19McsRecording.h5\n",
      "/mnt/server_epl/SCN1A/R1648H-export/21-3-25/slice2/2025-03-21T11-22-54McsRecording.h5\n",
      "/mnt/server_epl/SCN1A/R1648H-export/20-3-25/slice3/2025-03-20T12-21-44McsRecording.h5\n",
      "/mnt/server_epl/SCN1A/R1648H-export/20-3-25/slice3/2025-03-20T12-46-23McsRecording.h5\n",
      "/mnt/server_epl/SCN1A/R1648H-export/20-3-25/slice3/2025-03-20T12-57-12McsRecording.h5\n",
      "/mnt/server_epl/SCN1A/R1648H-export/20-3-25/slice3/2025-03-20T12-45-24McsRecording.h5\n",
      "/mnt/server_epl/SCN1A/R1648H-export/20-3-25/slice3/2025-03-20T12-40-07McsRecording.h5\n",
      "/mnt/server_epl/SCN1A/R1648H-export/20-3-25/slice4/2025-03-20T13-47-29McsRecording.h5\n",
      "/mnt/server_epl/SCN1A/R1648H-export/20-3-25/slice4/2025-03-20T14-07-28McsRecording.h5\n",
      "/mnt/server_epl/SCN1A/R1648H-export/20-3-25/slice4/2025-03-20T13-59-46McsRecording.h5\n",
      "/mnt/server_epl/SCN1A/R1648H-export/20-3-25/slice4/2025-03-20T13-31-33McsRecording.h5\n",
      "/mnt/server_epl/SCN1A/R1648H-export/20-3-25/slice5/2025-03-20T14-56-13McsRecording.h5\n",
      "/mnt/server_epl/SCN1A/R1648H-export/20-3-25/slice5/2025-03-20T14-24-12McsRecording.h5\n",
      "/mnt/server_epl/SCN1A/R1648H-export/20-3-25/slice5/2025-03-20T15-02-51McsRecording.h5\n",
      "/mnt/server_epl/SCN1A/R1648H-export/20-3-25/slice5/2025-03-20T14-42-58McsRecording.h5\n",
      "/mnt/server_epl/SCN1A/R1648H-export/20-3-25/slice5/2025-03-20T14-27-07McsRecording.h5\n",
      "/mnt/server_epl/SCN1A/R1648H-export/20-3-25/slice2/2025-03-20T12-08-00McsRecording.h5\n",
      "/mnt/server_epl/SCN1A/R1648H-export/20-3-25/slice6/2025-03-20T15-58-22McsRecording.h5\n",
      "/mnt/server_epl/SCN1A/R1648H-export/20-3-25/slice6/2025-03-20T15-19-24McsRecording.h5\n",
      "/mnt/server_epl/SCN1A/R1648H-export/20-3-25/slice6/2025-03-20T15-40-59McsRecording.h5\n",
      "/mnt/server_epl/SCN1A/R1648H-export/20-3-25/slice1/2025-03-20T11-44-28McsRecording.h5\n",
      "/mnt/server_epl/SCN1A/R1648H-export/29-11-24/slice1/2024-11-29T10-59-33McsRecording.h5\n",
      "/mnt/server_epl/SCN1A/R1648H-export/29-11-24/slice1/2024-11-29T11-20-52McsRecording.h5\n",
      "/mnt/server_epl/SCN1A/R1648H-export/29-11-24/slice1/2024-11-29T11-15-36McsRecording.h5\n",
      "/mnt/server_epl/SCN1A/R1648H-export/29-11-24/slice1/2024-11-29T11-19-33McsRecording.h5\n",
      "/mnt/server_epl/SCN1A/R1648H-export/29-11-24/slice2/2024-11-29T11-58-14McsRecording.h5\n",
      "/mnt/server_epl/SCN1A/R1648H-export/29-11-24/slice2/2024-11-29T12-18-13McsRecording.h5\n",
      "/mnt/server_epl/SCN1A/R1648H-export/29-11-24/slice2/2024-11-29T11-47-30McsRecording.h5\n",
      "/mnt/server_epl/SCN1A/R1648H-export/29-11-24/slice2/2024-11-29T11-38-28McsRecording.h5\n",
      "/mnt/server_epl/SCN1A/R1648H-export/26-3-25/slice4/2025-03-26T14-36-14McsRecording.h5\n",
      "/mnt/server_epl/SCN1A/R1648H-export/26-3-25/slice4/2025-03-26T14-49-20McsRecording.h5\n",
      "/mnt/server_epl/SCN1A/R1648H-export/26-3-25/slice3/2025-03-26T13-30-35McsRecording.h5\n",
      "/mnt/server_epl/SCN1A/R1648H-export/26-3-25/slice3/2025-03-26T13-41-55McsRecording.h5\n",
      "/mnt/server_epl/SCN1A/R1648H-export/26-3-25/slice7/2025-03-26T16-19-27McsRecording.h5\n",
      "/mnt/server_epl/SCN1A/R1648H-export/26-3-25/slice7/2025-03-26T16-29-14McsRecording.h5\n",
      "/mnt/server_epl/SCN1A/R1648H-export/26-3-25/slice2/2025-03-26T12-20-02McsRecording.h5\n",
      "/mnt/server_epl/SCN1A/R1648H-export/26-3-25/slice2/2025-03-26T12-35-24McsRecording.h5\n",
      "/mnt/server_epl/SCN1A/R1648H-export/26-3-25/slice5/2025-03-26T15-29-35McsRecording.h5\n",
      "/mnt/server_epl/SCN1A/R1648H-export/26-3-25/slice5/2025-03-26T15-20-01McsRecording.h5\n",
      "/mnt/server_epl/SCN1A/R1648H-export/26-3-25/slice1/2025-03-26T10-37-19McsRecording.h5\n",
      "/mnt/server_epl/SCN1A/R1648H-export/26-3-25/slice1/2025-03-26T10-46-39McsRecording.h5\n",
      "/mnt/server_epl/SCN1A/R1648H-export/26-3-25/slice6/2025-03-26T15-54-35McsRecording.h5\n",
      "/mnt/server_epl/SCN1A/R1648H-export/26-3-25/slice6/2025-03-26T15-45-41McsRecording.h5\n",
      "/mnt/server_epl/SCN1A/R1648H-export/17-3-25/slice2/2025-03-17T12-53-56McsRecording.h5\n",
      "/mnt/server_epl/SCN1A/R1648H-export/17-3-25/slice2/2025-03-17T12-56-31McsRecording.h5\n",
      "/mnt/server_epl/SCN1A/R1648H-export/17-3-25/slice2/2025-03-17T12-43-21McsRecording.h5\n",
      "/mnt/server_epl/SCN1A/R1648H-export/17-3-25/slice2/2025-03-17T12-05-04McsRecording.h5\n",
      "/mnt/server_epl/SCN1A/R1648H-export/17-3-25/slice2/2025-03-17T12-24-13McsRecording.h5\n",
      "/mnt/server_epl/SCN1A/R1648H-export/17-3-25/slice2/2025-03-17T12-56-09McsRecording.h5\n",
      "/mnt/server_epl/SCN1A/R1648H-export/17-3-25/slice5/2025-03-17T14-47-33McsRecording.h5\n",
      "/mnt/server_epl/SCN1A/R1648H-export/17-3-25/slice5/2025-03-17T15-10-36McsRecording.h5\n",
      "/mnt/server_epl/SCN1A/R1648H-export/17-3-25/slice1/2025-03-17T11-47-10McsRecording.h5\n",
      "/mnt/server_epl/SCN1A/R1648H-export/17-3-25/slice1/2025-03-17T11-29-22McsRecording.h5\n",
      "/mnt/server_epl/SCN1A/R1648H-export/17-3-25/slice1/2025-03-17T11-12-24McsRecording.h5\n",
      "/mnt/server_epl/SCN1A/R1648H-export/17-3-25/slice6/2025-03-17T15-16-28McsRecording.h5\n",
      "/mnt/server_epl/SCN1A/R1648H-export/17-3-25/slice4/2025-03-17T14-12-29McsRecording.h5\n",
      "/mnt/server_epl/SCN1A/R1648H-export/17-3-25/slice4/2025-03-17T13-53-21McsRecording.h5\n",
      "/mnt/server_epl/SCN1A/R1648H-export/17-3-25/slice4/2025-03-17T14-28-18McsRecording.h5\n",
      "/mnt/server_epl/SCN1A/R1648H-export/17-3-25/slice3/2025-03-17T13-11-06McsRecording.h5\n",
      "/mnt/server_epl/SCN1A/R1648H-export/17-3-25/slice3/2025-03-17T13-24-33McsRecording.h5\n",
      "/mnt/server_epl/SCN1A/R1648H-export/29-10-24/slice5/2024-10-29T14-43-03McsRecording.h5\n",
      "/mnt/server_epl/SCN1A/R1648H-export/29-10-24/slice5/2024-10-29T15-03-21McsRecording.h5\n",
      "/mnt/server_epl/SCN1A/R1648H-export/29-10-24/slice5/2024-10-29T14-24-36McsRecording.h5\n",
      "/mnt/server_epl/SCN1A/R1648H-export/29-10-24/slice5/2024-10-29T14-30-55McsRecording.h5\n",
      "/mnt/server_epl/SCN1A/R1648H-export/29-10-24/slice1/2024-10-29T12-09-06McsRecording.h5\n",
      "/mnt/server_epl/SCN1A/R1648H-export/29-10-24/slice6/2024-10-29T15-41-13McsRecording.h5\n",
      "/mnt/server_epl/SCN1A/R1648H-export/29-10-24/slice6/2024-10-29T15-22-52McsRecording.h5\n",
      "/mnt/server_epl/SCN1A/R1648H-export/29-10-24/slice4/2024-10-29T14-06-43McsRecording.h5\n",
      "/mnt/server_epl/SCN1A/R1648H-export/29-10-24/slice4/2024-10-29T13-31-56McsRecording.h5\n",
      "/mnt/server_epl/SCN1A/R1648H-export/29-10-24/slice4/2024-10-29T14-01-04McsRecording.h5\n",
      "/mnt/server_epl/SCN1A/R1648H-export/29-10-24/slice4/2024-10-29T13-51-40McsRecording.h5\n",
      "/mnt/server_epl/SCN1A/R1648H-export/29-10-24/slice3/2024-10-29T13-14-58McsRecording.h5\n",
      "/mnt/server_epl/SCN1A/R1648H-export/29-10-24/slice7/2024-10-29T16-07-53McsRecording.h5\n",
      "/mnt/server_epl/SCN1A/R1648H-export/29-10-24/slice7/2024-10-29T16-19-27McsRecording.h5\n",
      "/mnt/server_epl/SCN1A/R1648H-export/28-11-24/slice3/2024-11-28T13-22-04McsRecording.h5\n",
      "/mnt/server_epl/SCN1A/R1648H-export/28-11-24/slice3/2024-11-28T13-41-55McsRecording.h5\n",
      "/mnt/server_epl/SCN1A/R1648H-export/28-11-24/slice3/2024-11-28T13-02-20McsRecording.h5\n",
      "/mnt/server_epl/SCN1A/R1648H-export/28-11-24/slice1/2024-11-28T11-11-59McsRecording.h5\n",
      "/mnt/server_epl/SCN1A/R1648H-export/28-11-24/slice1/2024-11-28T11-31-47McsRecording.h5\n",
      "/mnt/server_epl/SCN1A/R1648H-export/28-11-24/slice1/2024-11-28T11-51-36McsRecording.h5\n",
      "/mnt/server_epl/SCN1A/R1648H-export/28-11-24/slice1/2024-11-29T10-59-33McsRecording.h5\n",
      "/mnt/server_epl/SCN1A/R1648H-export/28-11-24/slice2/2024-11-28T12-44-02McsRecording.h5\n",
      "/mnt/server_epl/SCN1A/R1648H-export/28-11-24/slice2/2024-11-28T12-29-28McsRecording.h5\n",
      "/mnt/server_epl/SCN1A/R1648H-export/28-11-24/slice2/2024-11-28T12-10-02McsRecording.h5\n",
      "/mnt/server_epl/SCN1A/R1648H-export/28-10-24/slice1/2024-10-28T11-20-06slice1.h5\n",
      "/mnt/server_epl/SCN1A/R1648H-export/28-10-24/slice1/2024-10-28T11-58-02slice1.h5\n",
      "/mnt/server_epl/SCN1A/R1648H-export/28-10-24/slice1/2024-10-28T11-30-32slice1.h5\n",
      "/mnt/server_epl/SCN1A/R1648H-export/28-10-24/slice5/2024-10-28T15-07-59slice1.h5\n",
      "/mnt/server_epl/SCN1A/R1648H-export/28-10-24/slice5/2024-10-28T15-45-08slice1.h5\n",
      "/mnt/server_epl/SCN1A/R1648H-export/28-10-24/slice5/2024-10-28T15-23-16slice1.h5\n",
      "/mnt/server_epl/SCN1A/R1648H-export/28-10-24/slice5/2024-10-28T15-50-41slice1.h5\n",
      "/mnt/server_epl/SCN1A/R1648H-export/28-10-24/slice2/2024-10-28T12-21-14slice1.h5\n",
      "/mnt/server_epl/SCN1A/R1648H-export/28-10-24/slice2/2024-10-28T12-52-04slice1.h5\n",
      "/mnt/server_epl/SCN1A/R1648H-export/28-10-24/slice2/2024-10-28T12-35-01slice1.h5\n",
      "/mnt/server_epl/SCN1A/R1648H-export/28-10-24/slice3/2024-10-28T13-59-03slice1.h5\n",
      "/mnt/server_epl/SCN1A/R1648H-export/28-10-24/slice4/2024-10-28T14-34-30slice1.h5\n",
      "/mnt/server_epl/SCN1A/R1648H-export/28-10-24/slice4/2024-10-28T14-10-50slice1.h5\n",
      "/mnt/server_epl/SCN1A/R1648H-export/28-10-24/slice4/2024-10-28T14-51-11slice1.h5\n",
      "/mnt/server_epl/SCN1A/R1648H-export/3-12-24/slice2/2024-12-03T11-23-24McsRecording.h5\n",
      "/mnt/server_epl/SCN1A/R1648H-export/3-12-24/slice2/2024-12-03T12-02-33McsRecording.h5\n",
      "/mnt/server_epl/SCN1A/R1648H-export/3-12-24/slice2/2024-12-03T11-43-47McsRecording.h5\n",
      "/mnt/server_epl/SCN1A/R1648H-export/3-12-24/slice1/2024-12-03T10-52-02McsRecording.h5\n",
      "/mnt/server_epl/SCN1A/R1648H-export/3-12-24/slice1/2024-12-03T10-29-29McsRecording.h5\n",
      "/mnt/server_epl/SCN1A/R1648H-export/3-12-24/slice1/2024-12-03T10-15-02McsRecording.h5\n",
      "/mnt/server_epl/SCN1A/R1648H-export/3-12-24/slice4/2024-12-03T14-15-41McsRecording.h5\n",
      "/mnt/server_epl/SCN1A/R1648H-export/3-12-24/slice4/2024-12-03T13-55-42McsRecording.h5\n",
      "/mnt/server_epl/SCN1A/R1648H-export/3-12-24/slice3/2024-12-03T13-09-59McsRecording.h5\n",
      "/mnt/server_epl/SCN1A/R1648H-export/3-12-24/slice3/2024-12-03T13-47-13McsRecording.h5\n",
      "/mnt/server_epl/SCN1A/R1648H-export/3-12-24/slice3/2024-12-03T13-08-58McsRecording.h5\n",
      "/mnt/server_epl/SCN1A/R1648H-export/3-12-24/slice3/2024-12-03T13-29-27McsRecording.h5\n",
      "/mnt/server_epl/SCN1A/R1648H-export/31-10-24/slice3/2024-10-31T13-01-29McsRecording.h5\n",
      "/mnt/server_epl/SCN1A/R1648H-export/31-10-24/slice3/2024-10-31T13-22-14McsRecording.h5\n",
      "/mnt/server_epl/SCN1A/R1648H-export/31-10-24/slice3/2024-10-31T13-43-06McsRecording.h5\n",
      "/mnt/server_epl/SCN1A/R1648H-export/31-10-24/slice3/2024-10-31T13-18-34McsRecording.h5\n",
      "/mnt/server_epl/SCN1A/R1648H-export/31-10-24/slice1/2024-10-31T11-57-35McsRecording.h5\n",
      "/mnt/server_epl/SCN1A/R1648H-export/31-10-24/slice1/2024-10-31T11-17-08McsRecording.h5\n",
      "/mnt/server_epl/SCN1A/R1648H-export/31-10-24/slice1/2024-10-31T11-38-52McsRecording.h5\n",
      "/mnt/server_epl/SCN1A/R1648H-export/31-10-24/slice2/2024-10-31T12-07-33McsRecording.h5\n",
      "/mnt/server_epl/SCN1A/R1648H-export/31-10-24/slice2/2024-10-31T12-26-52McsRecording.h5\n",
      "/mnt/server_epl/SCN1A/R1648H-export/31-10-24/slice2/2024-10-31T12-46-56McsRecording.h5\n",
      "/mnt/server_epl/SCN1A/R1648H-export/27-11-24/slice3/2024-11-27T14-02-59McsRecording.h5\n",
      "/mnt/server_epl/SCN1A/R1648H-export/27-11-24/slice3/2024-11-27T14-23-25McsRecording.h5\n",
      "/mnt/server_epl/SCN1A/R1648H-export/27-11-24/slice3/2024-11-27T13-44-11McsRecording.h5\n",
      "/mnt/server_epl/SCN1A/R1648H-export/27-11-24/slice4/2024-11-27T15-29-48McsRecording.h5\n",
      "/mnt/server_epl/SCN1A/R1648H-export/27-11-24/slice4/2024-11-27T15-09-46McsRecording.h5\n",
      "/mnt/server_epl/SCN1A/R1648H-export/27-11-24/slice4/2024-11-27T14-50-37McsRecording.h5\n",
      "/mnt/server_epl/SCN1A/R1648H-export/27-11-24/slice2/2024-11-27T12-34-37McsRecording.h5\n",
      "/mnt/server_epl/SCN1A/R1648H-export/27-11-24/slice2/2024-11-27T12-13-39McsRecording.h5\n",
      "/mnt/server_epl/SCN1A/R1648H-export/27-11-24/slice2/2024-11-27T12-53-49McsRecording.h5\n",
      "/mnt/server_epl/SCN1A/R1648H-export/27-11-24/slice1/2024-11-27T11-33-38McsRecording.h5\n",
      "/mnt/server_epl/SCN1A/R1648H-export/27-11-24/slice1/2024-11-27T11-52-38McsRecording.h5\n",
      "/mnt/server_epl/SCN1A/R1648H-export/27-11-24/slice1/2024-11-28T11-11-59McsRecording.h5\n",
      "/mnt/server_epl/SCN1A/R1648H-export/30-10-24/slice3/2024-10-30T13-21-30McsRecording.h5\n",
      "/mnt/server_epl/SCN1A/R1648H-export/30-10-24/slice3/2024-10-30T13-00-17McsRecording.h5\n",
      "/mnt/server_epl/SCN1A/R1648H-export/30-10-24/slice3/2024-10-30T13-44-22McsRecording.h5\n",
      "/mnt/server_epl/SCN1A/R1648H-export/30-10-24/slice4/2024-10-30T14-24-47McsRecording.h5\n",
      "/mnt/server_epl/SCN1A/R1648H-export/30-10-24/slice4/2024-10-30T15-04-03McsRecording.h5\n",
      "/mnt/server_epl/SCN1A/R1648H-export/30-10-24/slice4/2024-10-30T14-45-14McsRecording.h5\n",
      "/mnt/server_epl/SCN1A/R1648H-export/30-10-24/slice2/2024-10-30T12-43-56McsRecording.h5\n",
      "/mnt/server_epl/SCN1A/R1648H-export/30-10-24/slice2/2024-10-30T12-21-25McsRecording.h5\n",
      "/mnt/server_epl/SCN1A/R1648H-export/30-10-24/slice2/2024-10-30T12-02-30McsRecording.h5\n",
      "/mnt/server_epl/SCN1A/R1648H-export/30-10-24/slice1/2024-10-30T11-49-10McsRecording.h5\n",
      "/mnt/server_epl/SCN1A/R1648H-export/30-10-24/slice1/2024-10-30T11-12-28McsRecording.h5\n",
      "/mnt/server_epl/SCN1A/R1648H-export/30-10-24/slice1/2024-10-30T11-28-53McsRecording.h5\n",
      "/mnt/server_epl/SCN1A/R1648H-export/2-12-24/slice4/2024-12-02T14-27-55McsRecording.h5\n",
      "/mnt/server_epl/SCN1A/R1648H-export/2-12-24/slice4/2024-12-02T14-46-40McsRecording.h5\n",
      "/mnt/server_epl/SCN1A/R1648H-export/2-12-24/slice4/2024-12-02T15-06-17McsRecording.h5\n",
      "/mnt/server_epl/SCN1A/R1648H-export/2-12-24/slice3/2024-12-02T14-08-35McsRecording.h5\n",
      "/mnt/server_epl/SCN1A/R1648H-export/2-12-24/slice1/2024-12-02T12-42-00McsRecording.h5\n",
      "/mnt/server_epl/SCN1A/R1648H-export/2-12-24/slice1/2024-12-02T13-02-03McsRecording.h5\n",
      "/mnt/server_epl/SCN1A/R1648H-export/2-12-24/slice1/2024-12-02T12-22-50McsRecording.h5\n",
      "/mnt/server_epl/SCN1A/R1648H-export/2-12-24/slice2/2024-12-02T13-12-16McsRecording.h5\n",
      "/mnt/server_epl/SCN1A/R1648H-export/2-12-24/slice2/2024-12-02T13-31-47McsRecording.h5\n",
      "/mnt/server_epl/SCN1A/R1648H-export/2-12-24/slice2/2024-12-02T13-15-09McsRecording.h5\n",
      "/mnt/server_epl/SCN1A/R1648H-export/2-12-24/slice5/2024-12-02T15-40-15McsRecording.h5\n",
      "/mnt/server_epl/SCN1A/R1648H-export/2-12-24/slice5/2024-12-02T15-20-40McsRecording.h5\n",
      "\n",
      "Found 191 HDF5 files.\n"
     ]
    }
   ],
   "source": [
    "folder = '/mnt/server_epl/SCN1A/R1648H-export'  # replace with your root directory\n",
    "h5_list = find_h5_files(folder)\n",
    "\n",
    "for path in h5_list:\n",
    "    print(path)\n",
    "\n",
    "print(f\"\\nFound {len(h5_list)} HDF5 files.\")"
   ]
  },
  {
   "cell_type": "code",
   "execution_count": null,
   "metadata": {},
   "outputs": [
    {
     "name": "stdout",
     "output_type": "stream",
     "text": [
      "Recording_0 <HDF5 group \"/Data/Recording_0\" (1 members)>\n",
      "Stream_0 <HDF5 group \"/Data/Recording_0/AnalogStream/Stream_0\" (3 members)>\n",
      "ChannelData <HDF5 dataset \"ChannelData\": shape (252, 112300000), type \"<i4\">\n",
      "ChannelDataTimeStamps <HDF5 dataset \"ChannelDataTimeStamps\": shape (1, 3), type \"<i8\">\n",
      "InfoChannel <HDF5 dataset \"InfoChannel\": shape (252,), type \"|V108\">\n",
      "total number 57\n",
      "(0, 2000000)\n",
      "(2000000, 4000000)\n",
      "(4000000, 6000000)\n",
      "(6000000, 8000000)\n",
      "(8000000, 10000000)\n",
      "(10000000, 12000000)\n",
      "(12000000, 14000000)\n",
      "(14000000, 16000000)\n",
      "(16000000, 18000000)\n",
      "(18000000, 20000000)\n",
      "(20000000, 22000000)\n",
      "(22000000, 24000000)\n",
      "(24000000, 26000000)\n",
      "(26000000, 28000000)\n",
      "(28000000, 30000000)\n",
      "(30000000, 32000000)\n",
      "(32000000, 34000000)\n",
      "(34000000, 36000000)\n",
      "(36000000, 38000000)\n",
      "(38000000, 40000000)\n",
      "(40000000, 42000000)\n",
      "(42000000, 44000000)\n",
      "(44000000, 46000000)\n",
      "(46000000, 48000000)\n"
     ]
    }
   ],
   "source": [
    "%%time\n",
    "import os\n",
    "import numpy as np\n",
    "from scipy.signal import butter, lfilter, lfilter_zi\n",
    "# from scipy.signal import butter, sosfilt, sosfilt_zi\n",
    "from scipy.signal import butter, sosfiltfilt\n",
    "\n",
    "def get_all_chunk_bounds(total_length, chunk_size):\n",
    "    chunks = []\n",
    "    for i in range(0, total_length, chunk_size):\n",
    "        start = i\n",
    "        end = min(i + chunk_size, total_length)\n",
    "        chunks.append((start, end))\n",
    "    return chunks\n",
    "# Design filter (Butterworth bandpass)\n",
    "def design_filter(lowcut, highcut, fs, order=5):\n",
    "    nyq = 0.5 * fs\n",
    "    b = butter(order, highcut / nyq, btype='low', output='sos')#butter(order, [lowcut / nyq, highcut / nyq], btype='band', output='sos')\n",
    "    return b\n",
    "# file_name = '/mnt/server_epl/SCN1A/R1648H-export/20-3-25/slice2/2025-03-20T12-08-00McsRecording.h5'\n",
    "file_name = '/mnt/server_epl/SCN1A/R1648H-export/21-3-25/slice6/2025-03-21T14-52-28McsRecording.h5' #'/mnt/server_epl/SCN1A/R1648H-export/20-3-25/slice4/2025-03-20T14-07-28McsRecording.h5'\n",
    "\n",
    "# source_file = '/mnt/server_epl/SCN1A/R1648H-export/20-3-25/slice2/2025-03-20T12-08-00McsRecording.h5'\n",
    "# get file info\n",
    "channel_raw_data = McsPy.McsData.RawData(file_name)    \n",
    "analog_stream_0 = channel_raw_data.recordings[0].analog_streams[0]\n",
    "adc_step = analog_stream_0.channel_infos[2].adc_step.magnitude \n",
    "fs = na(analog_stream_0.channel_infos[2].sampling_frequency) # get frequency\n",
    "date_time =channel_raw_data.date\n",
    "n_channels=252\n",
    "b = design_filter(.1, 200, fs)\n",
    "subsampling_rate = 800# Hz\n",
    "subsampling_step = int(fs/subsampling_rate) # \n",
    "\n",
    "slice_ =file_name.split('/')[-2]\n",
    "name = file_name.split('/')[-1]#'2025-03-20T14-07-28McsRecording'\n",
    "date = formatted = channel_raw_data.date.strftime('%d-%m-%y')\n",
    "target_folder = '/home/ovinogradov/Projects/MEA-analysis/data/R1648H_filt/'\n",
    "name_filtered = 'R1648H_{date}_{slice_}_{name}_filtered.h5'.format(date=date, slice_=slice_,name = name)\n",
    "target_file= os.path.join(target_folder,name_filtered)\n",
    "n_samples_in = analog_stream_0.timestamp_index[-1][-1]+1\n",
    "\n",
    "chunck_size = 2000000\n",
    "n_samples_out = n_samples_in // subsampling_step\n",
    "n_samples_out = int(n_samples_in // subsampling_step)\n",
    "#os.join '/home/ovinogradov/Projects/MEA-analysis/data'#'/mnt/server_epl/SCN1A/R1648H-export/20-3-25/slice2/2025-03-20T12-08-00McsRecording_filt.h5'\n",
    "\n",
    "if os.path.isfile(target_file):\n",
    "    print(\"File exists.\")\n",
    "    \n",
    "else:\n",
    "    print('Processing',file_name)\n",
    "    \n",
    "    with h5py.File(target_file, 'w') as write_file:\n",
    "        dset = write_file.create_dataset(\n",
    "            'data',\n",
    "            shape=(n_samples_out, n_channels),             # start with 0 rows\n",
    "            maxshape=(n_samples_out, n_channels),       # allow unlimited rows\n",
    "            # chunks=(chunck_size, n_channels),   # efficient I/O chunks\n",
    "            dtype='float32',\n",
    "            compression='lzf'                 # optional: for smaller files\n",
    "        )\n",
    "        \n",
    "    with h5py.File(target_file, 'a') as write_file:\n",
    "        dset = write_file['data']\n",
    "        # Read chunk (adapt depending on file format)\n",
    "        with h5py.File(file_name, \"r\") as f:\n",
    "            data= f['Data']['Recording_0']['AnalogStream']['Stream_0']['ChannelData']\n",
    "            chunnks = get_all_chunk_bounds(data.shape[1],chunck_size)        #  # Choose an optimal chunk size\n",
    "            current_rows = 0\n",
    "            print('total number',len(chunnks))\n",
    "            for k in chunnks[:]:\n",
    "                data_chunk = data[:,k[0]:k[1]]  # Process in chunks\n",
    "                filtered_chunk = sosfiltfilt(b, data_chunk[:,:].T,axis=0)\n",
    "                filtered_chunk = filtered_chunk[::subsampling_step,:]\n",
    "                new_rows = current_rows + filtered_chunk.shape[0]\n",
    "                dset[current_rows:new_rows, :] = filtered_chunk.astype(np.float32)\n",
    "                current_rows = new_rows\n",
    "                print(k)\n",
    "\n",
    "    #seperately add paramters\n",
    "    with h5py.File(target_file, 'a') as write_file:\n",
    "        write_file['resampled_rate'] = subsampling_rate\n",
    "        write_file['original_rate'] = fs\n",
    "        write_file['filter'] = 'lowpass 200Hz, order=5, zero-phase, sos'\n",
    "        write_file['scale'] = adc_step # votage step\n",
    "        write_file['n_channels'] = n_channels\n",
    "        write_file['date_time'] =  date_time.strftime('%Y-%m-%d %H:%M:%S.%f')"
   ]
  },
  {
   "cell_type": "code",
   "execution_count": 38,
   "metadata": {},
   "outputs": [
    {
     "name": "stdout",
     "output_type": "stream",
     "text": [
      "<KeysViewHDF5 ['data', 'date_time', 'filter', 'n_channels', 'original_rate', 'resampled_rate', 'scale']>\n"
     ]
    }
   ],
   "source": []
  },
  {
   "cell_type": "code",
   "execution_count": null,
   "metadata": {},
   "outputs": [],
   "source": [
    "\n",
    "        \n",
    "    write_file.attrs['resampled_rate'] = subsampling_rate\n",
    "    write_file.attrs['original_rate'] = fs\n",
    "    write_file.attrs['filter'] = 'lowpass 200Hz, order=5, zero-phase, sos'\n",
    "    write_file.attrs['scale'] = adc_step # votage step\n",
    "    write_file.attrs['n_channels'] = n_channels\n",
    "    write_file.attrs['date_time'] =  date_time.strftime('%Y-%m-%d %H:%M:%S.%f')"
   ]
  },
  {
   "cell_type": "code",
   "execution_count": 33,
   "metadata": {},
   "outputs": [
    {
     "data": {
      "text/plain": [
       "800"
      ]
     },
     "execution_count": 33,
     "metadata": {},
     "output_type": "execute_result"
    }
   ],
   "source": [
    "subsampling_rate"
   ]
  },
  {
   "cell_type": "code",
   "execution_count": 5,
   "metadata": {},
   "outputs": [
    {
     "name": "stdout",
     "output_type": "stream",
     "text": [
      "Recording_0 <HDF5 group \"/Data/Recording_0\" (1 members)>\n",
      "Stream_0 <HDF5 group \"/Data/Recording_0/AnalogStream/Stream_0\" (3 members)>\n",
      "ChannelData <HDF5 dataset \"ChannelData\": shape (252, 12178000), type \"<i4\">\n",
      "ChannelDataTimeStamps <HDF5 dataset \"ChannelDataTimeStamps\": shape (1, 3), type \"<i8\">\n",
      "InfoChannel <HDF5 dataset \"InfoChannel\": shape (252,), type \"|V108\">\n"
     ]
    }
   ],
   "source": [
    "file_name = '/mnt/server_epl/SCN1A/R1648H-export/20-3-25/slice5/2025-03-20T15-02-51McsRecording.h5' #'/mnt/server_epl/SCN1A/R1648H-export/20-3-25/slice4/2025-03-20T14-07-28McsRecording.h5'\n",
    "\n",
    "# source_file = '/mnt/server_epl/SCN1A/R1648H-export/20-3-25/slice2/2025-03-20T12-08-00McsRecording.h5'\n",
    "# get file info\n",
    "channel_raw_data = McsPy.McsData.RawData(file_name)    \n",
    "analog_stream_0 = channel_raw_data.recordings[0].analog_streams[0]\n",
    "adc_step = analog_stream_0.channel_infos[2].adc_step.magnitude \n",
    "fs = na(analog_stream_0.channel_infos[2].sampling_frequency) # get frequency\n",
    "date_time =channel_raw_data.date\n",
    "n_channels=252\n",
    "subsampling_rate = 800# Hz\n",
    "subsampling_step = int(fs/subsampling_rate) # \n",
    "\n",
    "\n",
    "slice_ =file_name.split('/')[-2]\n",
    "name = file_name.split('/')[-1]#'2025-03-20T14-07-28McsRecording'\n",
    "date = formatted = channel_raw_data.date.strftime('%d-%m-%y')\n",
    "target_folder = '/home/ovinogradov/Projects/MEA-analysis/data/R1648H_filt/'\n",
    "name_filtered = 'R1648H_{date}_{slice_}_{name}_filtered.h5'.format(date=date, slice_=slice_,name = name)\n",
    "target_file= os.path.join(target_folder,name_filtered)"
   ]
  },
  {
   "cell_type": "code",
   "execution_count": 34,
   "metadata": {},
   "outputs": [
    {
     "data": {
      "text/plain": [
       "np.float64(3.0710999999999996e-08)"
      ]
     },
     "execution_count": 34,
     "metadata": {},
     "output_type": "execute_result"
    }
   ],
   "source": [
    "adc_step"
   ]
  },
  {
   "cell_type": "code",
   "execution_count": 32,
   "metadata": {},
   "outputs": [
    {
     "data": {
      "text/plain": [
       "'/home/ovinogradov/Projects/MEA-analysis/data/R1648H_filt/R1648H_21-03-25_slice6_2025-03-21T14-52-28McsRecording.h5_filtered.h5'"
      ]
     },
     "execution_count": 32,
     "metadata": {},
     "output_type": "execute_result"
    }
   ],
   "source": [
    "target_file"
   ]
  },
  {
   "cell_type": "code",
   "execution_count": 30,
   "metadata": {},
   "outputs": [
    {
     "name": "stdout",
     "output_type": "stream",
     "text": [
      "(4492000, 252)\n"
     ]
    }
   ],
   "source": [
    "\n",
    "# file_name = '/Users/ovinogradov/Documents/Projects/SCN1A/MEA-analysis/data/Shaima_example/2025-01-17T21-17-46McsRecording.h5'\n",
    "\n",
    "# with h5py.File('filtered.h5', 'r') as f:\n",
    "with h5py.File(target_file, 'r') as f:\n",
    "    print(f['data'].shape)\n",
    "    filt = f['data'][:,:]\n",
    "    \n",
    "# with h5py.File(file_name, \"r\") as f:\n",
    "#     data= f['Data']['Recording_0']['AnalogStream']['Stream_0']['ChannelData']\n",
    "#     print(data)\n",
    "#     # chunk_size = 1000  # Choose an optimal chunk size\n",
    "#     data_series = data[10,:]  # Process in chunks\n"
   ]
  },
  {
   "cell_type": "code",
   "execution_count": 31,
   "metadata": {},
   "outputs": [
    {
     "data": {
      "image/png": "[encoded data removed]",
      "text/plain": [
       "<Figure size 640x480 with 1 Axes>"
      ]
     },
     "metadata": {},
     "output_type": "display_data"
    }
   ],
   "source": [
    "plt.figure()\n",
    "\n",
    "# plt.plot(np.arange(0,len(data_series))*(1/fs),data_series*adc_step)\n",
    "# plt.plot(np.arange(0,len(filt))*(1/1000),filt[:,3]*adc_step,'-');\n",
    "plt.plot(np.arange(0,len(filt))*(1/subsampling_rate),filt[:,10]*adc_step,'-',linewidth = 0.5);\n",
    "# plt.xlim(85,140.3)\n",
    "# plt.ylim([-5e-5,8e-5])\n",
    "plt.show()"
   ]
  },
  {
   "cell_type": "code",
   "execution_count": 23,
   "metadata": {},
   "outputs": [
    {
     "data": {
      "text/plain": [
       "(-5e-05, 8e-05)"
      ]
     },
     "execution_count": 23,
     "metadata": {},
     "output_type": "execute_result"
    },
    {
     "data": {
      "image/png": "[encoded data removed]",
      "text/plain": [
       "<Figure size 640x480 with 2 Axes>"
      ]
     },
     "metadata": {},
     "output_type": "display_data"
    }
   ],
   "source": [
    "plt.subplot(1,3,1)\n",
    "plt.plot(np.arange(0,len(filt))*(1/subsampling_rate),filt[:,10]*adc_step,'-',linewidth = 0.5);\n",
    "plt.xlim(95,100.3)\n",
    "plt.ylim([-5e-5,8e-5])\n",
    "\n",
    "plt.plot(np.arange(0,len(filt))*(1/subsampling_rate),filt[:,10]*adc_step,'-',linewidth = 0.5);\n",
    "plt.xlim(95,100.3)\n",
    "plt.ylim([-5e-5,8e-5])\n",
    "\n",
    "plt.subplot(1,3,2)\n",
    "plt.plot(np.arange(0,len(filt))*(1/subsampling_rate),filt[:,10]*adc_step,'-',linewidth = 0.5);\n",
    "plt.xlim(130,135.3)\n",
    "plt.ylim([-5e-5,8e-5])"
   ]
  }
 ],
 "metadata": {
  "kernelspec": {
   "display_name": "sliceMEA",
   "language": "python",
   "name": "slicemea"
  },
  "language_info": {
   "codemirror_mode": {
    "name": "ipython",
    "version": 3
   },
   "file_extension": ".py",
   "mimetype": "text/x-python",
   "name": "python",
   "nbconvert_exporter": "python",
   "pygments_lexer": "ipython3",
   "version": "3.9.21"
  }
 },
 "nbformat": 4,
 "nbformat_minor": 4
}
