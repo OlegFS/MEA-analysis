{
 "cells": [
  {
   "cell_type": "code",
   "execution_count": 8,
   "id": "fe2b973b-e182-4af2-b365-4133e8bb0355",
   "metadata": {},
   "outputs": [],
   "source": [
    "import qsl\n",
    "import numpy as np\n",
    "\n",
    "x =np.linspace(0, 100, 1000)\n",
    "params = dict(\n",
    "    config={\n",
    "        \"image\": [\n",
    "            {\"name\": \"Peaks\", \"multiple\": True},\n",
    "            {\"name\": \"A or B\", \"freeform\": True},\n",
    "        ]\n",
    "    },\n",
    "    items=[\n",
    "        {\n",
    "            \"target\": {\n",
    "                \"plots\": [\n",
    "                    {\n",
    "                        \"x\": {\"name\": \"time\", \"values\": x},\n",
    "                        \"y\": {\n",
    "                            \"lines\": [\n",
    "                                {\n",
    "                                    \"name\": \"value\",\n",
    "                                    \"values\": np.random.normal(0,1,size=1000),\n",
    "                                    \"color\": \"green\",\n",
    "                                    \"dot\": {\"labelKey\": \"Peaks\"},\n",
    "                                }\n",
    "                            ]\n",
    "                        },\n",
    "                        # \"areas\": [\n",
    "                            \n",
    "                        # ],\n",
    "                    }\n",
    "                ],\n",
    "            },\n",
    "            \"type\": \"time-series\",\n",
    "        }\n",
    "    ],\n",
    ")\n",
    "labels= qsl.MediaLabeler(**params)"
   ]
  },
  {
   "cell_type": "code",
   "execution_count": 9,
   "id": "834116a3-911b-4359-8574-f0d75454ba25",
   "metadata": {},
   "outputs": [
    {
     "data": {
      "application/vnd.jupyter.widget-view+json": {
       "model_id": "3641925cee54411e9aab2fdc63d339ac",
       "version_major": 2,
       "version_minor": 0
      },
      "text/plain": [
       "MediaLabeler(buttons={'prev': False, 'next': False, 'save': True, 'config': True, 'delete': False, 'ignore': T…"
      ]
     },
     "execution_count": 9,
     "metadata": {},
     "output_type": "execute_result"
    }
   ],
   "source": [
    "labels"
   ]
  },
  {
   "cell_type": "code",
   "execution_count": 12,
   "id": "5cfcd8ba-8c78-428a-a5c5-d0ba99b3dd70",
   "metadata": {},
   "outputs": [
    {
     "data": {
      "text/plain": [
       "{'image': {'Peaks': ['5.605605605605606',\n",
       "   '9.60960960960961',\n",
       "   '20.32032032032032',\n",
       "   '25.825825825825827']},\n",
       " 'polygons': [],\n",
       " 'masks': [],\n",
       " 'boxes': []}"
      ]
     },
     "execution_count": 12,
     "metadata": {},
     "output_type": "execute_result"
    }
   ],
   "source": [
    "labels.items[0]['labels']"
   ]
  },
  {
   "cell_type": "code",
   "execution_count": null,
   "id": "f72ceb6a-bebf-4d81-8120-61807cf55337",
   "metadata": {},
   "outputs": [],
   "source": []
  }
 ],
 "metadata": {
  "kernelspec": {
   "display_name": "sliceMEA",
   "language": "python",
   "name": "slicemea"
  },
  "language_info": {
   "codemirror_mode": {
    "name": "ipython",
    "version": 3
   },
   "file_extension": ".py",
   "mimetype": "text/x-python",
   "name": "python",
   "nbconvert_exporter": "python",
   "pygments_lexer": "ipython3",
   "version": "3.9.21"
  }
 },
 "nbformat": 4,
 "nbformat_minor": 5
}
